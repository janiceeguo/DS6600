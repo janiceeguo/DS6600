{
 "cells": [
  {
   "cell_type": "code",
   "execution_count": 1,
   "id": "e39c4a78",
   "metadata": {},
   "outputs": [],
   "source": [
    "import numpy as np\n",
    "import pandas as pd\n",
    "import plotly.express as px\n",
    "import prince\n",
    "import requests\n",
    "import prince\n",
    "import wquantiles\n",
    "import matplotlib.pyplot as plt\n",
    "import seaborn as sns\n",
    "import sidetable\n",
    "import sqlalchemy\n",
    "import psycopg\n",
    "import mysql.connector\n",
    "import pymongo\n",
    "from scipy import stats\n",
    "from sklearn import manifold"
   ]
  },
  {
   "cell_type": "code",
   "execution_count": null,
   "id": "2ada45a3-5672-409c-b14d-c5a1293ae90f",
   "metadata": {},
   "outputs": [],
   "source": [
    "import os"
   ]
  },
  {
   "cell_type": "code",
   "execution_count": null,
   "id": "b8bc591a-3ee1-4efb-871d-54e38f4beb34",
   "metadata": {},
   "outputs": [],
   "source": [
    "password = os.getenv('secretpassword')"
   ]
  }
 ],
 "metadata": {
  "kernelspec": {
   "display_name": "Python 3 (ipykernel)",
   "language": "python",
   "name": "python3"
  },
  "language_info": {
   "codemirror_mode": {
    "name": "ipython",
    "version": 3
   },
   "file_extension": ".py",
   "mimetype": "text/x-python",
   "name": "python",
   "nbconvert_exporter": "python",
   "pygments_lexer": "ipython3",
   "version": "3.13.7"
  }
 },
 "nbformat": 4,
 "nbformat_minor": 5
}
