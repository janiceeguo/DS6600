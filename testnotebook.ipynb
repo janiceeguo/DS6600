{
 "cells": [
  {
   "cell_type": "code",
   "execution_count": 1,
   "id": "e39c4a78",
   "metadata": {},
   "outputs": [],
   "source": [
    "import numpy as np\n",
    "import pandas as pd\n",
    "import plotly.express as px\n",
    "import prince\n",
    "import requests\n",
    "import prince\n",
    "import wquantiles\n",
    "import matplotlib.pyplot as plt\n",
    "import seaborn as sns\n",
    "import sidetable\n",
    "import sqlalchemy\n",
    "import psycopg\n",
    "import mysql.connector\n",
    "import pymongo\n",
    "from scipy import stats\n",
    "from sklearn import manifold"
   ]
  }
 ],
 "metadata": {
  "kernelspec": {
   "display_name": "ds6600",
   "language": "python",
   "name": "python3"
  },
  "language_info": {
   "codemirror_mode": {
    "name": "ipython",
    "version": 3
   },
   "file_extension": ".py",
   "mimetype": "text/x-python",
   "name": "python",
   "nbconvert_exporter": "python",
   "pygments_lexer": "ipython3",
   "version": "3.13.2"
  }
 },
 "nbformat": 4,
 "nbformat_minor": 5
}
